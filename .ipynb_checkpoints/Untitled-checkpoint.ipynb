{
 "cells": [
  {
   "cell_type": "code",
   "execution_count": 28,
   "metadata": {},
   "outputs": [],
   "source": [
    "from legacy.api import get_api_key, show_id_from_search, get_seasons, KEYFILE, API_KEY\n",
    "from bs4 import BeautifulSoup, element\n",
    "from requests import get"
   ]
  },
  {
   "cell_type": "code",
   "execution_count": 3,
   "metadata": {},
   "outputs": [
    {
     "data": {
      "text/plain": [
       "['1', '2', '3', '4', '5', '6', '7']"
      ]
     },
     "execution_count": 3,
     "metadata": {},
     "output_type": "execute_result"
    }
   ],
   "source": [
    "show_id = show_id_from_search(\"30 Rock\")\n",
    "seasons = get_seasons(show_id)\n",
    "seasons"
   ]
  },
  {
   "cell_type": "code",
   "execution_count": 4,
   "metadata": {},
   "outputs": [],
   "source": [
    "url = \"https://imdb.com/title/{}/episodes?season=1\".format(show_id)\n",
    "response = get(url)"
   ]
  },
  {
   "cell_type": "code",
   "execution_count": 26,
   "metadata": {},
   "outputs": [
    {
     "data": {
      "text/plain": [
       "['tt1527242',\n",
       " 'tt0849809',\n",
       " 'tt0883001',\n",
       " 'tt0865981',\n",
       " 'tt0883000',\n",
       " 'tt0882999',\n",
       " 'tt0910580',\n",
       " 'tt0876931',\n",
       " 'tt0905647',\n",
       " 'tt0931394',\n",
       " 'tt0915758',\n",
       " 'tt0920916',\n",
       " 'tt0909393',\n",
       " 'tt0944245',\n",
       " 'tt0892439',\n",
       " 'tt0944244',\n",
       " 'tt0971260',\n",
       " 'tt0974983',\n",
       " 'tt0971259',\n",
       " 'tt1001596',\n",
       " 'tt1001595',\n",
       " 'tt1001571']"
      ]
     },
     "execution_count": 26,
     "metadata": {},
     "output_type": "execute_result"
    }
   ],
   "source": [
    "html_soup = BeautifulSoup(response.text, \"html.parser\")\n",
    "episode_divs = html_soup.find_all(\"div\", class_=\"list_item\")\n",
    "ep_id = lambda div: div.div.a[\"href\"].split(sep=\"/\")[2]\n",
    "list(map(ep_id, episode_divs))\n",
    "\n",
    "\n",
    "#episode_id = episode_divs[0].div.a[\"href\"].split(sep=\"/\")[2]\n",
    "#episode_id"
   ]
  },
  {
   "cell_type": "code",
   "execution_count": 31,
   "metadata": {},
   "outputs": [
    {
     "data": {
      "text/plain": [
       "<html><head><title>Loading...</title></head><body><script type=\"text/javascript\">window.location.replace('http://www.ombdapi.com/?apikey=b286984f&i=tt0849809&js=eyJhbGciOiJIUzI1NiIsInR5cCI6IkpXVCJ9.eyJqcyI6MX0.fADWc9hUOlh58R9UzufQBROmie3I7c7vE835oE6YmU4&uuid=da6cd616-d74b-11e8-97e4-7727578ecebd');</script></body></html>"
      ]
     },
     "execution_count": 31,
     "metadata": {},
     "output_type": "execute_result"
    }
   ],
   "source": [
    "episode_id = 'tt0849809'\n",
    "url = \"http://www.omdbapi.com/\"\n",
    "payload = {\"apikey\": API_KEY, \"i\": episode_id}\n",
    "response = get(url, params=payload)\n",
    "html_soup = BeautifulSoup(response.text, \"html.parser\")\n",
    "html_soup"
   ]
  }
 ],
 "metadata": {
  "kernelspec": {
   "display_name": "Python 3",
   "language": "python",
   "name": "python3"
  },
  "language_info": {
   "codemirror_mode": {
    "name": "ipython",
    "version": 3
   },
   "file_extension": ".py",
   "mimetype": "text/x-python",
   "name": "python",
   "nbconvert_exporter": "python",
   "pygments_lexer": "ipython3",
   "version": "3.7.1"
  }
 },
 "nbformat": 4,
 "nbformat_minor": 2
}
